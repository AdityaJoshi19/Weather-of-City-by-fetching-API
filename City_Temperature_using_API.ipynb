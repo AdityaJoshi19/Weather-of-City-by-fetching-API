{
  "nbformat": 4,
  "nbformat_minor": 0,
  "metadata": {
    "colab": {
      "provenance": []
    },
    "kernelspec": {
      "name": "python3",
      "display_name": "Python 3"
    },
    "language_info": {
      "name": "python"
    }
  },
  "cells": [
    {
      "cell_type": "code",
      "execution_count": 36,
      "metadata": {
        "colab": {
          "base_uri": "https://localhost:8080/"
        },
        "id": "qXCP7RFIe5Wg",
        "outputId": "0f4bcba8-e437-4519-ef24-d17028d180f8"
      },
      "outputs": [
        {
          "output_type": "stream",
          "name": "stdout",
          "text": [
            "Enter city name : goa\n",
            "\n",
            " Temperature (in Celsius)        =    24.210000000000036\n",
            " Temperature (in Fahrenheit)     =    75.57800000000006\n",
            " Temperature (in Kelvin)         =    297.36\n",
            " Atmospheric Pressure (in hPa)   =    1008 hPa\n",
            " Humidity (in %)                 =    91%\n",
            " Description                     =    light rain\n",
            "\n",
            " Coordinates of goa: \n",
            " Longitude                       =    74.0833\n",
            " Latitude                        =    15.3333\n"
          ]
        }
      ],
      "source": [
        "# Aditya R Joshi | Weather of City\n",
        "import requests, json\n",
        "\n",
        "api_key = \"0edc2e6028764e78aaae91c95b15fe93\"\n",
        "\n",
        "# base_url variable to store url\n",
        "base_url = \"http://api.openweathermap.org/data/2.5/weather?\"\n",
        "\n",
        "# Take city name as input from user\n",
        "city_name = input(\"Enter city name : \")\n",
        "\n",
        "# Complete url address\n",
        "complete_url = base_url + \"appid=\" + api_key + \"&q=\" + city_name\n",
        "\n",
        "# get method of requests module return response object\n",
        "response = requests.get(complete_url)\n",
        "\n",
        "# json method of response object converts json format data into python format data\n",
        "x = response.json()\n",
        "\n",
        "# x contains list of nested dictionaries\n",
        "if x[\"cod\"] != \"404\":\n",
        "\n",
        "  y = x[\"main\"]\n",
        "\n",
        "  temperature_k = float(y[\"temp\"]); temperature_c = temperature_k - 273.15; temperature_f = (temperature_c*9/5)+32\n",
        "\n",
        "  current_pressure = y[\"pressure\"]\n",
        "\n",
        "  current_humidity = y[\"humidity\"]\n",
        "\n",
        "  z = x[\"weather\"]\n",
        "\n",
        "  weather_description = z[0][\"description\"]\n",
        "\n",
        "  # Coordinates of city\n",
        "  c = x[\"coord\"]\n",
        "  longitude = c[\"lon\"]\n",
        "  latitude = c[\"lat\"]\n",
        "\n",
        "  print(\"\\n Temperature (in Celsius)        =    \" +\n",
        "\t\t\t\t\tstr(temperature_c) +\n",
        "        \"\\n Temperature (in Fahrenheit)     =    \" +\n",
        "\t\t\t\t\tstr(temperature_f) +\n",
        "        \"\\n Temperature (in Kelvin)         =    \" +\n",
        "\t\t\t\t\tstr(temperature_k) +\n",
        "\t\t    \"\\n Atmospheric Pressure (in hPa)   =    \" +\n",
        "\t\t\t\t\tstr(current_pressure) + \" hPa\" +\n",
        "\t\t    \"\\n Humidity (in %)                 =    \" +\n",
        "\t\t\t\t\tstr(current_humidity) + \"%\" +\n",
        "\t\t    \"\\n Description                     =    \" +\n",
        "\t\t\t\t\tstr(weather_description) +\n",
        "        \"\\n\\n Coordinates of \"+city_name+\": \"      +\n",
        "        \"\\n Longitude                       =    \" +\n",
        "\t\t\t\t\tstr(longitude) +\n",
        "        \"\\n Latitude                        =    \" +\n",
        "\t\t\t\t\tstr(latitude)\n",
        "        )\n",
        "\n",
        "else:\n",
        "\tprint(\"\\n City Not Found \")"
      ]
    }
  ]
}